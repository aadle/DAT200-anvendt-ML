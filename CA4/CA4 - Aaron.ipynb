{
 "cells": [
  {
   "cell_type": "markdown",
   "metadata": {},
   "source": [
    "# DAT200 CA4 2023\n",
    "\n",
    "Kaggle username: aarondeleyos"
   ]
  },
  {
   "cell_type": "markdown",
   "metadata": {},
   "source": [
    "### Imports"
   ]
  },
  {
   "cell_type": "code",
   "execution_count": 1,
   "metadata": {},
   "outputs": [],
   "source": [
    "import numpy as np\n",
    "import pandas as pd\n",
    "import matplotlib.pyplot as plt\n",
    "import seaborn as sns\n",
    "from scipy import stats\n",
    "from sklearn.model_selection import train_test_split\n",
    "from sklearn.preprocessing import StandardScaler\n",
    "from sklearn.pipeline import make_pipeline\n",
    "from sklearn.linear_model import LogisticRegression\n",
    "from sklearn.decomposition import PCA\n",
    "from sklearn.svm import SVC\n",
    "from sklearn.impute import SimpleImputer\n",
    "from sklearn.impute import KNNImputer\n",
    "from sklearn.model_selection import cross_val_score\n",
    "from sklearn.utils.fixes import loguniform\n",
    "from sklearn.model_selection import RandomizedSearchCV\n",
    "from sklearn.model_selection import GridSearchCV\n",
    "from sklearn.model_selection import learning_curve\n",
    "from sklearn.model_selection import validation_curve\n",
    "from sklearn.metrics import confusion_matrix\n",
    "from sklearn.metrics import ConfusionMatrixDisplay\n",
    "from sklearn.metrics import classification_report\n",
    "from sklearn.utils import resample\n",
    "from sklearn.ensemble import RandomForestClassifier"
   ]
  },
  {
   "cell_type": "markdown",
   "metadata": {},
   "source": [
    "### Reading data"
   ]
  },
  {
   "cell_type": "code",
   "execution_count": 2,
   "metadata": {},
   "outputs": [],
   "source": [
    "training_data = pd.read_csv(r'data\\train.csv') # Load training data\n",
    "training_data = training_data.drop('index', axis=1) # remove 'index' column"
   ]
  },
  {
   "cell_type": "markdown",
   "metadata": {},
   "source": [
    "### Data exploration and visualisation"
   ]
  },
  {
   "cell_type": "code",
   "execution_count": 3,
   "metadata": {},
   "outputs": [
    {
     "data": {
      "text/plain": [
       "N_Days            0\n",
       "Status            0\n",
       "Drug              0\n",
       "Age               0\n",
       "Sex               0\n",
       "Ascites           0\n",
       "Hepatomegaly      0\n",
       "Spiders           0\n",
       "Edema             0\n",
       "Bilirubin         0\n",
       "Cholesterol      16\n",
       "Albumin           0\n",
       "Copper            1\n",
       "Alk_Phos          0\n",
       "SGOT              0\n",
       "Tryglicerides    16\n",
       "Platelets         4\n",
       "Prothrombin       0\n",
       "Stage             0\n",
       "dtype: int64"
      ]
     },
     "execution_count": 3,
     "metadata": {},
     "output_type": "execute_result"
    }
   ],
   "source": [
    "training_data.isna().sum() # check for missing values in the data set."
   ]
  },
  {
   "cell_type": "code",
   "execution_count": 4,
   "metadata": {},
   "outputs": [],
   "source": [
    "# correlation_matrix = training_data.corr()\n",
    "# fig_corr, ax_corr = plt.subplots(figsize=(16, 9))\n",
    "# sns.heatmap(data=correlation_matrix, annot=True, ax=ax_corr)\n",
    "# plt.show()"
   ]
  },
  {
   "cell_type": "code",
   "execution_count": 5,
   "metadata": {},
   "outputs": [],
   "source": [
    "# # Pair plot\n",
    "# plt.figure(figsize=(16, 9))\n",
    "# sns.pairplot(data=training_data, hue='Stage', palette='Set1')\n",
    "# plt.show()"
   ]
  },
  {
   "cell_type": "markdown",
   "metadata": {},
   "source": [
    "### Data cleaning"
   ]
  },
  {
   "cell_type": "code",
   "execution_count": 6,
   "metadata": {},
   "outputs": [],
   "source": [
    "# remove rows with nan values.\n",
    "na_df = training_data.isna().sum()\n",
    "nan_columns = pd.DataFrame(na_df[na_df != 0]).T.columns.tolist() # return column name if it contains nan-values\n",
    "\n",
    "training_data = training_data.dropna(subset=nan_columns, axis=0) # remove nan-values"
   ]
  },
  {
   "cell_type": "markdown",
   "metadata": {},
   "source": [
    "### Data exploration after cleaning"
   ]
  },
  {
   "cell_type": "code",
   "execution_count": 7,
   "metadata": {},
   "outputs": [],
   "source": [
    "# # Pair plot after cleaning\n",
    "# plt.figure(figsize=(16, 9))\n",
    "# sns.pairplot(data=training_data, hue='Stage', palette='Set1')\n",
    "# plt.show()"
   ]
  },
  {
   "cell_type": "markdown",
   "metadata": {},
   "source": [
    "### Data preprocessing"
   ]
  },
  {
   "cell_type": "code",
   "execution_count": 8,
   "metadata": {},
   "outputs": [
    {
     "data": {
      "text/plain": [
       "3    77\n",
       "4    62\n",
       "2    34\n",
       "1     6\n",
       "Name: Stage, dtype: int64"
      ]
     },
     "execution_count": 8,
     "metadata": {},
     "output_type": "execute_result"
    }
   ],
   "source": [
    "training_data = pd.get_dummies(training_data, drop_first=True) # Convert nominal categorical values to numerical values\n",
    "training_data['Stage'].value_counts() # Check number of data represented by each class"
   ]
  },
  {
   "cell_type": "code",
   "execution_count": 9,
   "metadata": {},
   "outputs": [],
   "source": [
    "# we want to have as many data points as class 2, thus we subtract the number of data points of class 1\n",
    "num_resamples = training_data[training_data['Stage'] == 2].shape[0] -\\\n",
    "                training_data[training_data['Stage'] == 1].shape[0] \n",
    "\n",
    "upsample = resample(training_data[training_data['Stage'] == 1], # Resample such that the dataset is more balanced\n",
    "                    replace=True,\n",
    "                    n_samples=num_resamples,\n",
    "                    random_state=5151)"
   ]
  },
  {
   "cell_type": "code",
   "execution_count": 10,
   "metadata": {},
   "outputs": [
    {
     "data": {
      "text/plain": [
       "3    77\n",
       "4    62\n",
       "2    34\n",
       "1    34\n",
       "Name: Stage, dtype: int64"
      ]
     },
     "execution_count": 10,
     "metadata": {},
     "output_type": "execute_result"
    }
   ],
   "source": [
    "training_data_bal = pd.concat([training_data, upsample]) # add the upsampled values to the training_data\n",
    "training_data_bal.index = list(range(training_data_bal.shape[0])) # Correct the indicies\n",
    "training_data_bal['Stage'].value_counts() # Check that class 1 and 2 now have the same number of data points"
   ]
  },
  {
   "cell_type": "markdown",
   "metadata": {},
   "source": [
    "#### Train test split"
   ]
  },
  {
   "cell_type": "code",
   "execution_count": 11,
   "metadata": {},
   "outputs": [],
   "source": [
    "# Split dataset into X (data) and y (target)\n",
    "X = training_data_bal.copy()\n",
    "y = X['Stage']\n",
    "X = X.drop('Stage', axis=1)"
   ]
  },
  {
   "cell_type": "code",
   "execution_count": 12,
   "metadata": {},
   "outputs": [],
   "source": [
    "# Test train split\n",
    "X_train, X_test, y_train, y_test = train_test_split(X, y,\n",
    "                                                    test_size=0.33,\n",
    "                                                    stratify=y,\n",
    "                                                    random_state=5413)"
   ]
  },
  {
   "cell_type": "markdown",
   "metadata": {},
   "source": [
    "#### Scaling"
   ]
  },
  {
   "cell_type": "code",
   "execution_count": 13,
   "metadata": {},
   "outputs": [],
   "source": [
    "sc = StandardScaler() # initialize a StandardScaler, then fit it to the training portion of the data.\n",
    "sc.fit(X_train)\n",
    "X_train_std = sc.transform(X_train)\n",
    "X_test_std = sc.transform(X_test)"
   ]
  },
  {
   "cell_type": "code",
   "execution_count": 14,
   "metadata": {},
   "outputs": [
    {
     "name": "stdout",
     "output_type": "stream",
     "text": [
      "1) \t 0.2913\n",
      "2) \t 0.3906\n",
      "3) \t 0.4707\n",
      "4) \t 0.5356\n",
      "5) \t 0.5967\n",
      "6) \t 0.6490\n",
      "7) \t 0.6990\n",
      "8) \t 0.7457\n",
      "9) \t 0.7830\n",
      "10) \t 0.8187\n",
      "11) \t 0.8500\n",
      "12) \t 0.8802\n",
      "13) \t 0.9049\n",
      "14) \t 0.9280\n",
      "15) \t 0.9469\n",
      "16) \t 0.9638\n",
      "17) \t 0.9779\n",
      "18) \t 0.9882\n",
      "19) \t 0.9963\n",
      "20) \t 1.0000\n"
     ]
    }
   ],
   "source": [
    "# PCA application to check the principal components\n",
    "num_comp = X.shape[1]\n",
    "pca = PCA(n_components=num_comp)\n",
    "X_train_pca = pca.fit_transform(X_train_std)\n",
    "explVars = pca.explained_variance_ratio_\n",
    "\n",
    "for i, cumsum in enumerate(np.cumsum(explVars), start=1):\n",
    "    print(f'{i}) \\t {cumsum:.4f}')"
   ]
  },
  {
   "cell_type": "markdown",
   "metadata": {},
   "source": [
    "### Modelling"
   ]
  },
  {
   "cell_type": "markdown",
   "metadata": {},
   "source": [
    "#### Data pipeline with kernel"
   ]
  },
  {
   "cell_type": "code",
   "execution_count": 15,
   "metadata": {},
   "outputs": [],
   "source": [
    "pipe_svm = make_pipeline(StandardScaler(),\n",
    "                         PCA(n_components=X.shape[1]),\n",
    "                         SVC(random_state=359))"
   ]
  },
  {
   "cell_type": "markdown",
   "metadata": {},
   "source": [
    "##### Randomized grid search setup (switch to normal grid search)"
   ]
  },
  {
   "cell_type": "code",
   "execution_count": 16,
   "metadata": {},
   "outputs": [
    {
     "name": "stdout",
     "output_type": "stream",
     "text": [
      "CV accuracy: 0.934 +/- 0.089\n"
     ]
    }
   ],
   "source": [
    "state = 761\n",
    "\n",
    "inner_segments = 15\n",
    "outer_segments = 15\n",
    "\n",
    "c_range_svm = loguniform(1e-5, 400) # loguniform distribution which we can draw values from\n",
    "gamma_range = loguniform(1e-4, 96) \n",
    "\n",
    "# Parameter grid for the SVC\n",
    "svc_grid = [{'svc__C': c_range_svm.rvs(20), # draw 20 values from the distribution\n",
    "            'svc__gamma': gamma_range.rvs(20), \n",
    "            'svc__kernel': ['linear', 'rbf'],\n",
    "            'svc__class_weight': [None, 'balanced']}]\n",
    "\n",
    "n_iter_search = 100 # number of parameter settings tested in the grid search\n",
    "\n",
    "# Randomized grid search \n",
    "gs_svc = RandomizedSearchCV(estimator=pipe_svm,\n",
    "                            param_distributions=svc_grid,\n",
    "                            scoring='accuracy', n_iter=n_iter_search,\n",
    "                            cv=inner_segments, n_jobs=-1)\n",
    "\n",
    "# Cross validation\n",
    "scores_nested_svm = cross_val_score(gs_svc, X_train, y_train,\n",
    "                                    scoring='accuracy', cv=outer_segments)\n",
    "\n",
    "print('CV accuracy: %.3f +/- %.3f' % (np.mean(scores_nested_svm),\n",
    "                                      np.std(scores_nested_svm)))"
   ]
  },
  {
   "cell_type": "code",
   "execution_count": 17,
   "metadata": {},
   "outputs": [
    {
     "name": "stdout",
     "output_type": "stream",
     "text": [
      "{'svc__kernel': 'rbf', 'svc__gamma': 0.007017164245342066, 'svc__class_weight': None, 'svc__C': 112.81575248763266}\n",
      "Training score: 0.9928\n",
      "Testing score: 0.8986\n"
     ]
    }
   ],
   "source": [
    "svc_gc = gs_svc.fit(X_train, y_train) # fit the best model to the training portion of the data\n",
    "print(svc_gc.best_params_) # check the parameters the best model has\n",
    "print(f'Training score: {svc_gc.score(X_train, y_train):.4f}')\n",
    "print(f'Testing score: {svc_gc.score(X_test, y_test):.4f}')"
   ]
  },
  {
   "cell_type": "code",
   "execution_count": 18,
   "metadata": {},
   "outputs": [
    {
     "name": "stdout",
     "output_type": "stream",
     "text": [
      "              precision    recall  f1-score   support\n",
      "\n",
      "           1       0.73      1.00      0.85        11\n",
      "           2       1.00      0.64      0.78        11\n",
      "           3       0.96      0.92      0.94        26\n",
      "           4       0.91      0.95      0.93        21\n",
      "\n",
      "    accuracy                           0.90        69\n",
      "   macro avg       0.90      0.88      0.87        69\n",
      "weighted avg       0.91      0.90      0.90        69\n",
      "\n"
     ]
    }
   ],
   "source": [
    "# Classification report for the SVC\n",
    "grid_pred_svc = svc_gc.predict(X_test)\n",
    "print(classification_report(y_test, grid_pred_svc))"
   ]
  },
  {
   "cell_type": "markdown",
   "metadata": {},
   "source": [
    "#### Data pipeline with regularization"
   ]
  },
  {
   "cell_type": "code",
   "execution_count": 15,
   "metadata": {},
   "outputs": [],
   "source": [
    "pipe_lr = make_pipeline(StandardScaler(),\n",
    "                        PCA(n_components=X.shape[1]),\n",
    "                        LogisticRegression(random_state=531, max_iter=500))"
   ]
  },
  {
   "cell_type": "code",
   "execution_count": 16,
   "metadata": {},
   "outputs": [
    {
     "name": "stderr",
     "output_type": "stream",
     "text": [
      "c:\\Users\\aarlm\\AppData\\Local\\Programs\\Python\\Python39\\lib\\site-packages\\sklearn\\linear_model\\_sag.py:350: ConvergenceWarning: The max_iter was reached which means the coef_ did not converge\n",
      "  warnings.warn(\n",
      "c:\\Users\\aarlm\\AppData\\Local\\Programs\\Python\\Python39\\lib\\site-packages\\sklearn\\linear_model\\_sag.py:350: ConvergenceWarning: The max_iter was reached which means the coef_ did not converge\n",
      "  warnings.warn(\n",
      "c:\\Users\\aarlm\\AppData\\Local\\Programs\\Python\\Python39\\lib\\site-packages\\sklearn\\linear_model\\_sag.py:350: ConvergenceWarning: The max_iter was reached which means the coef_ did not converge\n",
      "  warnings.warn(\n",
      "c:\\Users\\aarlm\\AppData\\Local\\Programs\\Python\\Python39\\lib\\site-packages\\sklearn\\linear_model\\_sag.py:350: ConvergenceWarning: The max_iter was reached which means the coef_ did not converge\n",
      "  warnings.warn(\n"
     ]
    },
    {
     "name": "stdout",
     "output_type": "stream",
     "text": [
      "CV accuracy: 0.892 +/- 0.059\n"
     ]
    },
    {
     "name": "stderr",
     "output_type": "stream",
     "text": [
      "c:\\Users\\aarlm\\AppData\\Local\\Programs\\Python\\Python39\\lib\\site-packages\\sklearn\\linear_model\\_sag.py:350: ConvergenceWarning: The max_iter was reached which means the coef_ did not converge\n",
      "  warnings.warn(\n"
     ]
    }
   ],
   "source": [
    "inner_segments = 5\n",
    "outer_segments = 5\n",
    "\n",
    "c_range = loguniform(1e-4, 500) # loguniform distribution which we can draw values from\n",
    "\n",
    "\n",
    "# Two parameter grids for the L1- and L2-penalty\n",
    "lr_grid = [{'logisticregression__penalty': ['l1'], \n",
    "            'logisticregression__C': c_range.rvs(15), # .rvs draws values from the loguniform distribution\n",
    "            'logisticregression__solver': ['saga', 'liblinear'],\n",
    "            'logisticregression__class_weight': ['balanced', None]},\n",
    "            \n",
    "            {'logisticregression__penalty': ['l2'],\n",
    "            'logisticregression__C': c_range.rvs(15),\n",
    "            'logisticregression__solver': ['saga', 'liblinear', 'lbfgs'],\n",
    "            'logisticregression__class_weight': ['balanced', None]}]\n",
    "\n",
    "# Grid search to find optimal parameters\n",
    "gs_lr = GridSearchCV(estimator=pipe_lr,\n",
    "                     param_grid=lr_grid, scoring='accuracy',\n",
    "                     cv=inner_segments, n_jobs=-1)\n",
    "\n",
    "# Cross validation \n",
    "scores_nested_lr = cross_val_score(gs_lr, X_train, y_train, scoring='accuracy',\n",
    "                                   cv=outer_segments)\n",
    "\n",
    "# Print mean results and standard deviation of the grid search\n",
    "print('CV accuracy: %.3f +/- %.3f' % (np.mean(scores_nested_lr),\n",
    "                                      np.std(scores_nested_lr)))\n"
   ]
  },
  {
   "cell_type": "code",
   "execution_count": 17,
   "metadata": {},
   "outputs": [
    {
     "name": "stdout",
     "output_type": "stream",
     "text": [
      "{'logisticregression__C': 47.953441674844925, 'logisticregression__class_weight': 'balanced', 'logisticregression__penalty': 'l2', 'logisticregression__solver': 'lbfgs'}\n",
      "Training score: 1.0000\n",
      "Testing score: 0.9420\n"
     ]
    }
   ],
   "source": [
    "lr_gc = gs_lr.fit(X_train, y_train) # fit the best model to the training portion of the data\n",
    "print(lr_gc.best_params_) # check the parameters the best model has\n",
    "print(f'Training score: {lr_gc.score(X_train, y_train):.4f}' )\n",
    "print(f'Testing score: {lr_gc.score(X_test, y_test):.4f}')"
   ]
  },
  {
   "cell_type": "code",
   "execution_count": 18,
   "metadata": {},
   "outputs": [
    {
     "name": "stdout",
     "output_type": "stream",
     "text": [
      "              precision    recall  f1-score   support\n",
      "\n",
      "           1       0.85      1.00      0.92        11\n",
      "           2       1.00      0.82      0.90        11\n",
      "           3       0.96      0.96      0.96        26\n",
      "           4       0.95      0.95      0.95        21\n",
      "\n",
      "    accuracy                           0.94        69\n",
      "   macro avg       0.94      0.93      0.93        69\n",
      "weighted avg       0.95      0.94      0.94        69\n",
      "\n"
     ]
    }
   ],
   "source": [
    "# Classification report for the logistic regression model\n",
    "grid_pred_lr = lr_gc.predict(X_test)\n",
    "print(classification_report(y_test, grid_pred_lr))"
   ]
  },
  {
   "cell_type": "markdown",
   "metadata": {},
   "source": [
    "#### Other models used for Kaggle submission"
   ]
  },
  {
   "cell_type": "code",
   "execution_count": 23,
   "metadata": {},
   "outputs": [],
   "source": [
    "pipe_rf = make_pipeline(RandomForestClassifier(random_state=258,\n",
    "                                               n_jobs=-1))"
   ]
  },
  {
   "cell_type": "code",
   "execution_count": 24,
   "metadata": {},
   "outputs": [
    {
     "name": "stdout",
     "output_type": "stream",
     "text": [
      "CV accuracy: 0.985 +/- 0.030\n"
     ]
    }
   ],
   "source": [
    "# Random forest classifier grid\n",
    "rf_grid = [{'randomforestclassifier__criterion': ['gini', 'entropy', 'log_loss'],\n",
    "            'randomforestclassifier__max_features': ['sqrt', 'log2'],\n",
    "            'randomforestclassifier__class_weight': ['balanced', 'balanced_subsample', None],\n",
    "            'randomforestclassifier__n_estimators': [100, 150, 200]}]\n",
    "\n",
    "inner_segments = 15\n",
    "outer_segments = 10\n",
    "\n",
    "n_iter_search = 20 # number of parameter settings tested in the grid search\n",
    "\n",
    "gs_rf = RandomizedSearchCV(estimator=pipe_rf,\n",
    "                            param_distributions=rf_grid,\n",
    "                            scoring='accuracy', n_iter=n_iter_search,\n",
    "                            cv=inner_segments, n_jobs=-1)\n",
    "\n",
    "\n",
    "scores_nested_rf = cross_val_score(gs_rf, X_train, y_train,\n",
    "                                    scoring='accuracy', cv=outer_segments)\n",
    "\n",
    "print('CV accuracy: %.3f +/- %.3f' % (np.mean(scores_nested_rf),\n",
    "                                      np.std(scores_nested_rf)))"
   ]
  },
  {
   "cell_type": "code",
   "execution_count": 25,
   "metadata": {},
   "outputs": [
    {
     "name": "stdout",
     "output_type": "stream",
     "text": [
      "{'randomforestclassifier__n_estimators': 150, 'randomforestclassifier__max_features': 'sqrt', 'randomforestclassifier__criterion': 'entropy', 'randomforestclassifier__class_weight': 'balanced'}\n",
      "Training score 1.0000\n",
      "Testing score: 0.9565\n"
     ]
    }
   ],
   "source": [
    "rf_gc = gs_rf.fit(X_train, y_train) # fit the best model to the training portion of the data\n",
    "print(rf_gc.best_params_) # check the parameters the best model has\n",
    "print(f'Training score {rf_gc.score(X_train, y_train):.4f}')\n",
    "print(f'Testing score: {rf_gc.score(X_test, y_test):.4f}' )"
   ]
  },
  {
   "cell_type": "code",
   "execution_count": 26,
   "metadata": {},
   "outputs": [
    {
     "name": "stdout",
     "output_type": "stream",
     "text": [
      "              precision    recall  f1-score   support\n",
      "\n",
      "           1       1.00      1.00      1.00        11\n",
      "           2       1.00      1.00      1.00        11\n",
      "           3       1.00      0.88      0.94        26\n",
      "           4       0.88      1.00      0.93        21\n",
      "\n",
      "    accuracy                           0.96        69\n",
      "   macro avg       0.97      0.97      0.97        69\n",
      "weighted avg       0.96      0.96      0.96        69\n",
      "\n"
     ]
    }
   ],
   "source": [
    "# Classification report for the random forest model\n",
    "grid_pred_rf = rf_gc.predict(X_test)\n",
    "print(classification_report(y_test, grid_pred_rf))"
   ]
  },
  {
   "cell_type": "markdown",
   "metadata": {},
   "source": [
    "### Final Evaluation and confusion matrix"
   ]
  },
  {
   "cell_type": "code",
   "execution_count": 27,
   "metadata": {},
   "outputs": [],
   "source": [
    "rs_rf = gs_rf.fit(X_train, y_train) # Best random forest classifier fitted to the training data\n",
    "y_pred = rs_rf.predict(X_test) # classifier prediction on the test part of the data"
   ]
  },
  {
   "cell_type": "code",
   "execution_count": 28,
   "metadata": {},
   "outputs": [
    {
     "data": {
      "image/png": "[encoded data removed]",
      "text/plain": [
       "<Figure size 432x288 with 2 Axes>"
      ]
     },
     "metadata": {
      "needs_background": "light"
     },
     "output_type": "display_data"
    },
    {
     "data": {
      "image/png": "[encoded data removed]",
      "text/plain": [
       "<Figure size 432x288 with 2 Axes>"
      ]
     },
     "metadata": {
      "needs_background": "light"
     },
     "output_type": "display_data"
    }
   ],
   "source": [
    "# Confusion matrix\n",
    "titles_options = [\n",
    "    (\"Confusion matrix, without normalization\", None),\n",
    "    (\"Normalized confusion matrix\", \"true\"),\n",
    "]\n",
    "\n",
    "for title, normalize in titles_options:\n",
    "    disp = ConfusionMatrixDisplay.from_estimator(rs_rf, X_test, y_test,\n",
    "                                                 display_labels=[str(x) for x in range(1, 5)],\n",
    "                                                 cmap=plt.cm.Blues,\n",
    "                                                 normalize=normalize)\n",
    "    disp.ax_.set_title(title)\n",
    "\n",
    "plt.show()"
   ]
  },
  {
   "cell_type": "markdown",
   "metadata": {},
   "source": [
    "### Kaggle submission"
   ]
  },
  {
   "cell_type": "code",
   "execution_count": 19,
   "metadata": {},
   "outputs": [],
   "source": [
    "# Read in test_data, remove the 'index' column\n",
    "test_data = pd.read_csv(r'data\\test.csv')\n",
    "test_data = test_data.drop('index', axis=1)"
   ]
  },
  {
   "cell_type": "code",
   "execution_count": 20,
   "metadata": {},
   "outputs": [],
   "source": [
    "na_test = test_data.isna().sum()\n",
    "nan_columns_test = pd.DataFrame(na_test[na_test != 0]).T.columns.tolist() # Retrieve the columns in which nan values are present\n",
    "\n",
    "# Impute missing values by means of KNearestNeighbours\n",
    "imr_test = KNNImputer(missing_values=np.nan) \n",
    "imr_test = imr_test.fit(test_data[nan_columns_test].values)\n",
    "imputed_test_val = imr_test.transform(test_data[nan_columns_test].values)\n",
    "\n",
    "# Copy the test_data and replace the nan_values with the imputed ones\n",
    "imp_test_data = test_data.copy()\n",
    "imp_test_data[nan_columns_test] = imputed_test_val"
   ]
  },
  {
   "cell_type": "code",
   "execution_count": 21,
   "metadata": {},
   "outputs": [],
   "source": [
    "# Convert nominal categorical values to numerical ones\n",
    "imp_test_data = pd.get_dummies(imp_test_data, drop_first=True)"
   ]
  },
  {
   "cell_type": "code",
   "execution_count": 22,
   "metadata": {},
   "outputs": [],
   "source": [
    "# Predict the test data with the best model, \n",
    "# then convert the results in to a pandas dataframe which in turn \n",
    "# is converted to a csv file. \n",
    "predictions = lr_gc.predict(imp_test_data)\n",
    "my_submission = pd.DataFrame({'index': list(range(len(predictions))),\n",
    "                              'Stage': predictions})\n",
    "my_submission.to_csv('Submission31.csv', index=False)"
   ]
  }
 ],
 "metadata": {
  "kernelspec": {
   "display_name": "Python 3",
   "language": "python",
   "name": "python3"
  },
  "language_info": {
   "codemirror_mode": {
    "name": "ipython",
    "version": 3
   },
   "file_extension": ".py",
   "mimetype": "text/x-python",
   "name": "python",
   "nbconvert_exporter": "python",
   "pygments_lexer": "ipython3",
   "version": "3.9.1"
  },
  "vscode": {
   "interpreter": {
    "hash": "9deea6f3c6e6a1cafa822ae3777345371dda6e2b4ce138fe31dab7bab62d3b32"
   }
  }
 },
 "nbformat": 4,
 "nbformat_minor": 2
}
