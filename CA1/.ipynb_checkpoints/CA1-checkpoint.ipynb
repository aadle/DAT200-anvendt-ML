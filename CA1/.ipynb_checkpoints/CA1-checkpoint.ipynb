{
 "cells": [
  {
   "attachments": {},
   "cell_type": "markdown",
   "metadata": {},
   "source": [
    "# Compulsory Assignment 1 - Pandas and visualizations"
   ]
  },
  {
   "attachments": {},
   "cell_type": "markdown",
   "metadata": {},
   "source": [
    "### Imports"
   ]
  },
  {
   "cell_type": "code",
   "execution_count": 18,
   "metadata": {},
   "outputs": [],
   "source": [
    "import pandas as pd\n",
    "import numpy as np\n",
    "import seaborn as sns\n",
    "import matplotlib.pyplot as plt\n"
   ]
  },
  {
   "cell_type": "markdown",
   "metadata": {},
   "source": [
    "---\n",
    "## Loading and exploring the dataset"
   ]
  },
  {
   "attachments": {},
   "cell_type": "markdown",
   "metadata": {},
   "source": [
    "__1. Load the dataset named `airbnb.csv` and store it in a dataframe called `raw_df`. Use the column named `ìd` as the index column for the dataframe__"
   ]
  },
  {
   "cell_type": "code",
   "execution_count": 19,
   "metadata": {},
   "outputs": [
    {
     "data": {
      "text/html": [
       "<div>\n",
       "<style scoped>\n",
       "    .dataframe tbody tr th:only-of-type {\n",
       "        vertical-align: middle;\n",
       "    }\n",
       "\n",
       "    .dataframe tbody tr th {\n",
       "        vertical-align: top;\n",
       "    }\n",
       "\n",
       "    .dataframe thead th {\n",
       "        text-align: right;\n",
       "    }\n",
       "</style>\n",
       "<table border=\"1\" class=\"dataframe\">\n",
       "  <thead>\n",
       "    <tr style=\"text-align: right;\">\n",
       "      <th></th>\n",
       "      <th>name</th>\n",
       "      <th>host_id</th>\n",
       "      <th>host_name</th>\n",
       "      <th>neighbourhood</th>\n",
       "      <th>latitude</th>\n",
       "      <th>longitude</th>\n",
       "      <th>room_type</th>\n",
       "      <th>price</th>\n",
       "      <th>minimum_nights</th>\n",
       "      <th>number_of_reviews</th>\n",
       "      <th>calculated_host_listings_count</th>\n",
       "      <th>availability_365</th>\n",
       "      <th>number_of_reviews_ltm</th>\n",
       "      <th>state</th>\n",
       "      <th>city</th>\n",
       "    </tr>\n",
       "    <tr>\n",
       "      <th>id</th>\n",
       "      <th></th>\n",
       "      <th></th>\n",
       "      <th></th>\n",
       "      <th></th>\n",
       "      <th></th>\n",
       "      <th></th>\n",
       "      <th></th>\n",
       "      <th></th>\n",
       "      <th></th>\n",
       "      <th></th>\n",
       "      <th></th>\n",
       "      <th></th>\n",
       "      <th></th>\n",
       "      <th></th>\n",
       "      <th></th>\n",
       "    </tr>\n",
       "  </thead>\n",
       "  <tbody>\n",
       "    <tr>\n",
       "      <th>183319</th>\n",
       "      <td>Panoramic Ocean View Venice Beach</td>\n",
       "      <td>867995</td>\n",
       "      <td>Barbara X</td>\n",
       "      <td>Venice</td>\n",
       "      <td>33.992110</td>\n",
       "      <td>-118.476000</td>\n",
       "      <td>Entire home/apt</td>\n",
       "      <td>152</td>\n",
       "      <td>30</td>\n",
       "      <td>3</td>\n",
       "      <td>2</td>\n",
       "      <td>0</td>\n",
       "      <td>0</td>\n",
       "      <td>CA</td>\n",
       "      <td>Los Angeles</td>\n",
       "    </tr>\n",
       "    <tr>\n",
       "      <th>109</th>\n",
       "      <td>Amazing bright elegant condo park front *UPGRA...</td>\n",
       "      <td>521</td>\n",
       "      <td>Paolo</td>\n",
       "      <td>Culver City</td>\n",
       "      <td>33.983010</td>\n",
       "      <td>-118.386070</td>\n",
       "      <td>Entire home/apt</td>\n",
       "      <td>115</td>\n",
       "      <td>30</td>\n",
       "      <td>2</td>\n",
       "      <td>1</td>\n",
       "      <td>139</td>\n",
       "      <td>0</td>\n",
       "      <td>CA</td>\n",
       "      <td>Los Angeles</td>\n",
       "    </tr>\n",
       "    <tr>\n",
       "      <th>51307</th>\n",
       "      <td>Spanish Bungalow Guest House LA CA. 30 plus ni...</td>\n",
       "      <td>235568</td>\n",
       "      <td>David</td>\n",
       "      <td>Atwater Village</td>\n",
       "      <td>34.122060</td>\n",
       "      <td>-118.267830</td>\n",
       "      <td>Entire home/apt</td>\n",
       "      <td>75</td>\n",
       "      <td>30</td>\n",
       "      <td>138</td>\n",
       "      <td>2</td>\n",
       "      <td>224</td>\n",
       "      <td>0</td>\n",
       "      <td>CA</td>\n",
       "      <td>Los Angeles</td>\n",
       "    </tr>\n",
       "    <tr>\n",
       "      <th>184314</th>\n",
       "      <td>Boho Chic Flat..Steps to Beach!</td>\n",
       "      <td>884031</td>\n",
       "      <td>Ashley</td>\n",
       "      <td>Venice</td>\n",
       "      <td>33.974870</td>\n",
       "      <td>-118.463120</td>\n",
       "      <td>Entire home/apt</td>\n",
       "      <td>125</td>\n",
       "      <td>30</td>\n",
       "      <td>30</td>\n",
       "      <td>1</td>\n",
       "      <td>0</td>\n",
       "      <td>0</td>\n",
       "      <td>CA</td>\n",
       "      <td>Los Angeles</td>\n",
       "    </tr>\n",
       "    <tr>\n",
       "      <th>51498</th>\n",
       "      <td>Guest House With Its Own Entrance/Exit and Hot...</td>\n",
       "      <td>236758</td>\n",
       "      <td>Bay</td>\n",
       "      <td>Mar Vista</td>\n",
       "      <td>34.003890</td>\n",
       "      <td>-118.441260</td>\n",
       "      <td>Entire home/apt</td>\n",
       "      <td>189</td>\n",
       "      <td>3</td>\n",
       "      <td>378</td>\n",
       "      <td>1</td>\n",
       "      <td>348</td>\n",
       "      <td>41</td>\n",
       "      <td>CA</td>\n",
       "      <td>Los Angeles</td>\n",
       "    </tr>\n",
       "    <tr>\n",
       "      <th>...</th>\n",
       "      <td>...</td>\n",
       "      <td>...</td>\n",
       "      <td>...</td>\n",
       "      <td>...</td>\n",
       "      <td>...</td>\n",
       "      <td>...</td>\n",
       "      <td>...</td>\n",
       "      <td>...</td>\n",
       "      <td>...</td>\n",
       "      <td>...</td>\n",
       "      <td>...</td>\n",
       "      <td>...</td>\n",
       "      <td>...</td>\n",
       "      <td>...</td>\n",
       "      <td>...</td>\n",
       "    </tr>\n",
       "    <tr>\n",
       "      <th>45079266</th>\n",
       "      <td>White Center  studio with kitchenette and bath</td>\n",
       "      <td>890326</td>\n",
       "      <td>Timothy</td>\n",
       "      <td>Highland Park</td>\n",
       "      <td>47.504459</td>\n",
       "      <td>-122.348915</td>\n",
       "      <td>Entire home/apt</td>\n",
       "      <td>125</td>\n",
       "      <td>3</td>\n",
       "      <td>16</td>\n",
       "      <td>1</td>\n",
       "      <td>0</td>\n",
       "      <td>7</td>\n",
       "      <td>WA</td>\n",
       "      <td>Seattle</td>\n",
       "    </tr>\n",
       "    <tr>\n",
       "      <th>664956215516199232</th>\n",
       "      <td>Lovely 1-bedroom condo next door to Gum Wall</td>\n",
       "      <td>48416955</td>\n",
       "      <td>Jessica</td>\n",
       "      <td>Central Business District</td>\n",
       "      <td>47.606606</td>\n",
       "      <td>-122.341684</td>\n",
       "      <td>Entire home/apt</td>\n",
       "      <td>184</td>\n",
       "      <td>1</td>\n",
       "      <td>22</td>\n",
       "      <td>3</td>\n",
       "      <td>6</td>\n",
       "      <td>22</td>\n",
       "      <td>WA</td>\n",
       "      <td>Seattle</td>\n",
       "    </tr>\n",
       "    <tr>\n",
       "      <th>49692446</th>\n",
       "      <td>Home away from home</td>\n",
       "      <td>268690467</td>\n",
       "      <td>Jose Manuel</td>\n",
       "      <td>South Delridge</td>\n",
       "      <td>47.513300</td>\n",
       "      <td>-122.355450</td>\n",
       "      <td>Entire home/apt</td>\n",
       "      <td>175</td>\n",
       "      <td>3</td>\n",
       "      <td>5</td>\n",
       "      <td>1</td>\n",
       "      <td>0</td>\n",
       "      <td>2</td>\n",
       "      <td>WA</td>\n",
       "      <td>Seattle</td>\n",
       "    </tr>\n",
       "    <tr>\n",
       "      <th>50035217</th>\n",
       "      <td>Brick duplex- 10 min to downtown- 10 min to SE...</td>\n",
       "      <td>403563664</td>\n",
       "      <td>Dan</td>\n",
       "      <td>Highland Park</td>\n",
       "      <td>47.512220</td>\n",
       "      <td>-122.328250</td>\n",
       "      <td>Entire home/apt</td>\n",
       "      <td>109</td>\n",
       "      <td>1</td>\n",
       "      <td>21</td>\n",
       "      <td>1</td>\n",
       "      <td>0</td>\n",
       "      <td>19</td>\n",
       "      <td>WA</td>\n",
       "      <td>Seattle</td>\n",
       "    </tr>\n",
       "    <tr>\n",
       "      <th>51193080</th>\n",
       "      <td>Cozy  2-bedroom apartment with free onsite par...</td>\n",
       "      <td>414338593</td>\n",
       "      <td>Sonal</td>\n",
       "      <td>Rainier View</td>\n",
       "      <td>47.503740</td>\n",
       "      <td>-122.242010</td>\n",
       "      <td>Entire home/apt</td>\n",
       "      <td>204</td>\n",
       "      <td>2</td>\n",
       "      <td>15</td>\n",
       "      <td>1</td>\n",
       "      <td>0</td>\n",
       "      <td>15</td>\n",
       "      <td>WA</td>\n",
       "      <td>Seattle</td>\n",
       "    </tr>\n",
       "  </tbody>\n",
       "</table>\n",
       "<p>325858 rows × 15 columns</p>\n",
       "</div>"
      ],
      "text/plain": [
       "                                                                 name  \\\n",
       "id                                                                      \n",
       "183319                              Panoramic Ocean View Venice Beach   \n",
       "109                 Amazing bright elegant condo park front *UPGRA...   \n",
       "51307               Spanish Bungalow Guest House LA CA. 30 plus ni...   \n",
       "184314                                Boho Chic Flat..Steps to Beach!   \n",
       "51498               Guest House With Its Own Entrance/Exit and Hot...   \n",
       "...                                                               ...   \n",
       "45079266               White Center  studio with kitchenette and bath   \n",
       "664956215516199232       Lovely 1-bedroom condo next door to Gum Wall   \n",
       "49692446                                          Home away from home   \n",
       "50035217            Brick duplex- 10 min to downtown- 10 min to SE...   \n",
       "51193080            Cozy  2-bedroom apartment with free onsite par...   \n",
       "\n",
       "                      host_id    host_name              neighbourhood  \\\n",
       "id                                                                      \n",
       "183319                 867995    Barbara X                     Venice   \n",
       "109                       521        Paolo                Culver City   \n",
       "51307                  235568        David            Atwater Village   \n",
       "184314                 884031       Ashley                     Venice   \n",
       "51498                  236758          Bay                  Mar Vista   \n",
       "...                       ...          ...                        ...   \n",
       "45079266               890326      Timothy              Highland Park   \n",
       "664956215516199232   48416955      Jessica  Central Business District   \n",
       "49692446            268690467  Jose Manuel             South Delridge   \n",
       "50035217            403563664          Dan              Highland Park   \n",
       "51193080            414338593        Sonal               Rainier View   \n",
       "\n",
       "                     latitude   longitude        room_type  price  \\\n",
       "id                                                                  \n",
       "183319              33.992110 -118.476000  Entire home/apt    152   \n",
       "109                 33.983010 -118.386070  Entire home/apt    115   \n",
       "51307               34.122060 -118.267830  Entire home/apt     75   \n",
       "184314              33.974870 -118.463120  Entire home/apt    125   \n",
       "51498               34.003890 -118.441260  Entire home/apt    189   \n",
       "...                       ...         ...              ...    ...   \n",
       "45079266            47.504459 -122.348915  Entire home/apt    125   \n",
       "664956215516199232  47.606606 -122.341684  Entire home/apt    184   \n",
       "49692446            47.513300 -122.355450  Entire home/apt    175   \n",
       "50035217            47.512220 -122.328250  Entire home/apt    109   \n",
       "51193080            47.503740 -122.242010  Entire home/apt    204   \n",
       "\n",
       "                    minimum_nights  number_of_reviews  \\\n",
       "id                                                      \n",
       "183319                          30                  3   \n",
       "109                             30                  2   \n",
       "51307                           30                138   \n",
       "184314                          30                 30   \n",
       "51498                            3                378   \n",
       "...                            ...                ...   \n",
       "45079266                         3                 16   \n",
       "664956215516199232               1                 22   \n",
       "49692446                         3                  5   \n",
       "50035217                         1                 21   \n",
       "51193080                         2                 15   \n",
       "\n",
       "                    calculated_host_listings_count  availability_365  \\\n",
       "id                                                                     \n",
       "183319                                           2                 0   \n",
       "109                                              1               139   \n",
       "51307                                            2               224   \n",
       "184314                                           1                 0   \n",
       "51498                                            1               348   \n",
       "...                                            ...               ...   \n",
       "45079266                                         1                 0   \n",
       "664956215516199232                               3                 6   \n",
       "49692446                                         1                 0   \n",
       "50035217                                         1                 0   \n",
       "51193080                                         1                 0   \n",
       "\n",
       "                    number_of_reviews_ltm state         city  \n",
       "id                                                            \n",
       "183319                                  0    CA  Los Angeles  \n",
       "109                                     0    CA  Los Angeles  \n",
       "51307                                   0    CA  Los Angeles  \n",
       "184314                                  0    CA  Los Angeles  \n",
       "51498                                  41    CA  Los Angeles  \n",
       "...                                   ...   ...          ...  \n",
       "45079266                                7    WA      Seattle  \n",
       "664956215516199232                     22    WA      Seattle  \n",
       "49692446                                2    WA      Seattle  \n",
       "50035217                               19    WA      Seattle  \n",
       "51193080                               15    WA      Seattle  \n",
       "\n",
       "[325858 rows x 15 columns]"
      ]
     },
     "execution_count": 19,
     "metadata": {},
     "output_type": "execute_result"
    }
   ],
   "source": [
    "# Insert your code below\n",
    "raw_df = pd.read_csv(r\"assets\\airbnb.csv\")\n",
    "raw_df.set_index('id')\n",
    "\n",
    "# ======================"
   ]
  },
  {
   "cell_type": "markdown",
   "metadata": {},
   "source": [
    "__2. Print the first `five` rows of the dataframe__"
   ]
  },
  {
   "cell_type": "code",
   "execution_count": 20,
   "metadata": {},
   "outputs": [
    {
     "data": {
      "text/html": [
       "<div>\n",
       "<style scoped>\n",
       "    .dataframe tbody tr th:only-of-type {\n",
       "        vertical-align: middle;\n",
       "    }\n",
       "\n",
       "    .dataframe tbody tr th {\n",
       "        vertical-align: top;\n",
       "    }\n",
       "\n",
       "    .dataframe thead th {\n",
       "        text-align: right;\n",
       "    }\n",
       "</style>\n",
       "<table border=\"1\" class=\"dataframe\">\n",
       "  <thead>\n",
       "    <tr style=\"text-align: right;\">\n",
       "      <th></th>\n",
       "      <th>id</th>\n",
       "      <th>name</th>\n",
       "      <th>host_id</th>\n",
       "      <th>host_name</th>\n",
       "      <th>neighbourhood</th>\n",
       "      <th>latitude</th>\n",
       "      <th>longitude</th>\n",
       "      <th>room_type</th>\n",
       "      <th>price</th>\n",
       "      <th>minimum_nights</th>\n",
       "      <th>number_of_reviews</th>\n",
       "      <th>calculated_host_listings_count</th>\n",
       "      <th>availability_365</th>\n",
       "      <th>number_of_reviews_ltm</th>\n",
       "      <th>state</th>\n",
       "      <th>city</th>\n",
       "    </tr>\n",
       "  </thead>\n",
       "  <tbody>\n",
       "    <tr>\n",
       "      <th>0</th>\n",
       "      <td>183319</td>\n",
       "      <td>Panoramic Ocean View Venice Beach</td>\n",
       "      <td>867995</td>\n",
       "      <td>Barbara X</td>\n",
       "      <td>Venice</td>\n",
       "      <td>33.99211</td>\n",
       "      <td>-118.47600</td>\n",
       "      <td>Entire home/apt</td>\n",
       "      <td>152</td>\n",
       "      <td>30</td>\n",
       "      <td>3</td>\n",
       "      <td>2</td>\n",
       "      <td>0</td>\n",
       "      <td>0</td>\n",
       "      <td>CA</td>\n",
       "      <td>Los Angeles</td>\n",
       "    </tr>\n",
       "    <tr>\n",
       "      <th>1</th>\n",
       "      <td>109</td>\n",
       "      <td>Amazing bright elegant condo park front *UPGRA...</td>\n",
       "      <td>521</td>\n",
       "      <td>Paolo</td>\n",
       "      <td>Culver City</td>\n",
       "      <td>33.98301</td>\n",
       "      <td>-118.38607</td>\n",
       "      <td>Entire home/apt</td>\n",
       "      <td>115</td>\n",
       "      <td>30</td>\n",
       "      <td>2</td>\n",
       "      <td>1</td>\n",
       "      <td>139</td>\n",
       "      <td>0</td>\n",
       "      <td>CA</td>\n",
       "      <td>Los Angeles</td>\n",
       "    </tr>\n",
       "    <tr>\n",
       "      <th>2</th>\n",
       "      <td>51307</td>\n",
       "      <td>Spanish Bungalow Guest House LA CA. 30 plus ni...</td>\n",
       "      <td>235568</td>\n",
       "      <td>David</td>\n",
       "      <td>Atwater Village</td>\n",
       "      <td>34.12206</td>\n",
       "      <td>-118.26783</td>\n",
       "      <td>Entire home/apt</td>\n",
       "      <td>75</td>\n",
       "      <td>30</td>\n",
       "      <td>138</td>\n",
       "      <td>2</td>\n",
       "      <td>224</td>\n",
       "      <td>0</td>\n",
       "      <td>CA</td>\n",
       "      <td>Los Angeles</td>\n",
       "    </tr>\n",
       "    <tr>\n",
       "      <th>3</th>\n",
       "      <td>184314</td>\n",
       "      <td>Boho Chic Flat..Steps to Beach!</td>\n",
       "      <td>884031</td>\n",
       "      <td>Ashley</td>\n",
       "      <td>Venice</td>\n",
       "      <td>33.97487</td>\n",
       "      <td>-118.46312</td>\n",
       "      <td>Entire home/apt</td>\n",
       "      <td>125</td>\n",
       "      <td>30</td>\n",
       "      <td>30</td>\n",
       "      <td>1</td>\n",
       "      <td>0</td>\n",
       "      <td>0</td>\n",
       "      <td>CA</td>\n",
       "      <td>Los Angeles</td>\n",
       "    </tr>\n",
       "    <tr>\n",
       "      <th>4</th>\n",
       "      <td>51498</td>\n",
       "      <td>Guest House With Its Own Entrance/Exit and Hot...</td>\n",
       "      <td>236758</td>\n",
       "      <td>Bay</td>\n",
       "      <td>Mar Vista</td>\n",
       "      <td>34.00389</td>\n",
       "      <td>-118.44126</td>\n",
       "      <td>Entire home/apt</td>\n",
       "      <td>189</td>\n",
       "      <td>3</td>\n",
       "      <td>378</td>\n",
       "      <td>1</td>\n",
       "      <td>348</td>\n",
       "      <td>41</td>\n",
       "      <td>CA</td>\n",
       "      <td>Los Angeles</td>\n",
       "    </tr>\n",
       "  </tbody>\n",
       "</table>\n",
       "</div>"
      ],
      "text/plain": [
       "       id                                               name  host_id  \\\n",
       "0  183319                  Panoramic Ocean View Venice Beach   867995   \n",
       "1     109  Amazing bright elegant condo park front *UPGRA...      521   \n",
       "2   51307  Spanish Bungalow Guest House LA CA. 30 plus ni...   235568   \n",
       "3  184314                    Boho Chic Flat..Steps to Beach!   884031   \n",
       "4   51498  Guest House With Its Own Entrance/Exit and Hot...   236758   \n",
       "\n",
       "   host_name    neighbourhood  latitude  longitude        room_type  price  \\\n",
       "0  Barbara X           Venice  33.99211 -118.47600  Entire home/apt    152   \n",
       "1      Paolo      Culver City  33.98301 -118.38607  Entire home/apt    115   \n",
       "2      David  Atwater Village  34.12206 -118.26783  Entire home/apt     75   \n",
       "3     Ashley           Venice  33.97487 -118.46312  Entire home/apt    125   \n",
       "4        Bay        Mar Vista  34.00389 -118.44126  Entire home/apt    189   \n",
       "\n",
       "   minimum_nights  number_of_reviews  calculated_host_listings_count  \\\n",
       "0              30                  3                               2   \n",
       "1              30                  2                               1   \n",
       "2              30                138                               2   \n",
       "3              30                 30                               1   \n",
       "4               3                378                               1   \n",
       "\n",
       "   availability_365  number_of_reviews_ltm state         city  \n",
       "0                 0                      0    CA  Los Angeles  \n",
       "1               139                      0    CA  Los Angeles  \n",
       "2               224                      0    CA  Los Angeles  \n",
       "3                 0                      0    CA  Los Angeles  \n",
       "4               348                     41    CA  Los Angeles  "
      ]
     },
     "metadata": {},
     "output_type": "display_data"
    }
   ],
   "source": [
    "# Insert your code below\n",
    "# ======================\n",
    "\n",
    "display(raw_df[:5])"
   ]
  },
  {
   "attachments": {},
   "cell_type": "markdown",
   "metadata": {},
   "source": [
    "__3. How many unique values exist in each of the columns `state` and `city`?__"
   ]
  },
  {
   "cell_type": "code",
   "execution_count": 21,
   "metadata": {},
   "outputs": [
    {
     "name": "stdout",
     "output_type": "stream",
     "text": [
      "Number of unique cities: 31\n",
      "Number of unique cities: 19\n"
     ]
    }
   ],
   "source": [
    "# Insert your code below\n",
    "# ======================\n",
    "\n",
    "unique_state = raw_df['state'].nunique() # .nunique() returns number of unique values.\n",
    "unique_city = raw_df['city'].nunique()\n",
    "\n",
    "print(\"Number of unique cities:\", unique_city)\n",
    "print(\"Number of unique cities:\", unique_state)"
   ]
  },
  {
   "attachments": {},
   "cell_type": "markdown",
   "metadata": {},
   "source": [
    "__4. Identify missing (NaN) values in each of the columns in the dataset__"
   ]
  },
  {
   "cell_type": "code",
   "execution_count": 22,
   "metadata": {},
   "outputs": [
    {
     "name": "stdout",
     "output_type": "stream",
     "text": [
      "id                                   0\n",
      "name                                19\n",
      "host_id                              0\n",
      "host_name                         1144\n",
      "neighbourhood                      712\n",
      "latitude                             0\n",
      "longitude                            0\n",
      "room_type                            0\n",
      "price                                0\n",
      "minimum_nights                       0\n",
      "number_of_reviews                    0\n",
      "calculated_host_listings_count       0\n",
      "availability_365                     0\n",
      "number_of_reviews_ltm                0\n",
      "state                                0\n",
      "city                                 0\n",
      "dtype: int64\n"
     ]
    }
   ],
   "source": [
    "# Insert your code below\n",
    "# ======================\n",
    "\n",
    "print(raw_df.isnull().sum()) # .isnull() finds all nan-values while .sum() counts them."
   ]
  },
  {
   "attachments": {},
   "cell_type": "markdown",
   "metadata": {},
   "source": [
    "__5. Create a copy of `raw_df` named `df`. Remove any rows containing NaN values in the new dataframe. What is the shape of `df` before and after removing the NaN values?__"
   ]
  },
  {
   "cell_type": "code",
   "execution_count": 23,
   "metadata": {},
   "outputs": [
    {
     "name": "stdout",
     "output_type": "stream",
     "text": [
      "Dataframe shape before removing NaN values: (325858, 16)\n",
      "Dataframe shape after removing NaN values: (323983, 16)\n"
     ]
    }
   ],
   "source": [
    "# Insert your code below\n",
    "# ======================\n",
    "\n",
    "df = raw_df.dropna() # drops rows if a nan value is present\n",
    "print(\"Dataframe shape before removing NaN values:\", raw_df.shape)\n",
    "print(\"Dataframe shape after removing NaN values:\", df.shape)"
   ]
  },
  {
   "attachments": {},
   "cell_type": "markdown",
   "metadata": {},
   "source": [
    "__6. Which `room_type`, `state` and `city` is the most popular (by number of instances)? Print the name and count of each__\n",
    "\n",
    "Hint: The output should look something like this:\n",
    "```python\n",
    "Column: [col], Most popular: [name], Count: [count]\n",
    "Column: [col], Most popular: [name], Count: [count]\n",
    "Column: [col], Most popular: [name], Count: [count]\n",
    "```"
   ]
  },
  {
   "cell_type": "code",
   "execution_count": 24,
   "metadata": {},
   "outputs": [
    {
     "name": "stdout",
     "output_type": "stream",
     "text": [
      "Column: room_type, Most popular: Entire home/apt, Count: 241433\n",
      "Column: state, Most popular: CA, Count: 127206\n",
      "Column: city, Most popular: Los Angeles, Count: 91600\n"
     ]
    }
   ],
   "source": [
    "# Insert your code below\n",
    "# ======================\n",
    "for feature in ['room_type', 'state', 'city']:\n",
    "    count = df[feature].value_counts()[0] # .value_counts() returns number of occurences of a each unique instance.\n",
    "    name = df[feature].value_counts().index[0] # .index returns the unique instance variables.\n",
    "    print(f\"Column: {feature}, Most popular: {name}, Count: {count}\")\n",
    "\n",
    "q = df['room_type'].value_counts()"
   ]
  },
  {
   "attachments": {},
   "cell_type": "markdown",
   "metadata": {},
   "source": [
    "__7. What is the average and median `price` for a listing?__"
   ]
  },
  {
   "cell_type": "code",
   "execution_count": 25,
   "metadata": {},
   "outputs": [
    {
     "name": "stdout",
     "output_type": "stream",
     "text": [
      "The average price for an AirBnb listing is 285.13 USD. Meanwhile, the median price for a listing is 159.00 USD.\n"
     ]
    }
   ],
   "source": [
    "# Insert your code below\n",
    "# ======================\n",
    "\n",
    "median = df['price'].median() # compute median of th column 'price' in the dataframe\n",
    "average = df['price'].mean() # compute mean of th column 'price' in the dataframe\n",
    "\n",
    "print(f\"The average price for an AirBnb listing is {average:.2f} USD. Meanwhile, the median price for a listing is {median:.2f} USD.\")\n"
   ]
  },
  {
   "attachments": {},
   "cell_type": "markdown",
   "metadata": {},
   "source": [
    "__8. What is the average price for the states `CA`, `FL` and `NY`?__\n",
    "\n",
    "Hint: The output should look something like this:\n",
    "```python\n",
    "State: [col], Average price: [price]\n",
    "State: [col], Average price: [price]\n",
    "State: [col], Average price: [price]\n",
    "```"
   ]
  },
  {
   "cell_type": "code",
   "execution_count": 26,
   "metadata": {},
   "outputs": [
    {
     "name": "stdout",
     "output_type": "stream",
     "text": [
      "State: CA, Average price: 288.40\n",
      "State: FL, Average price: 241.99\n",
      "State: NY, Average price: 197.22\n"
     ]
    }
   ],
   "source": [
    "# Insert your code below\n",
    "# ======================\n",
    "\n",
    "for state in ['CA', 'FL', 'NY']:\n",
    "    current_state = df[df['state'] == state] # create new dataframe with entries which has the specified state name in the 'state' column.\n",
    "    average_price = current_state['price'].mean()\n",
    "    print(f\"State: {state}, Average price: {average_price:.2f}\")"
   ]
  },
  {
   "attachments": {},
   "cell_type": "markdown",
   "metadata": {},
   "source": [
    "__9. Create a new dataframe called `df_beach` containing all listings with \"beach\" in the `name`. Print out the shape of `beach_df`__\n",
    "\n",
    "The filtering should not be case sensitive, meaning that names containing `beach`, `Beach`, `BeAcH` etc. all should be included\n"
   ]
  },
  {
   "cell_type": "code",
   "execution_count": 27,
   "metadata": {},
   "outputs": [],
   "source": [
    "# Insert your code below\n",
    "# ======================\n",
    "\n",
    "df_beach = df[df['name'].str.contains('beach', case=False)] # create new dataframe with entries which has the word beach in the 'name' column."
   ]
  },
  {
   "attachments": {},
   "cell_type": "markdown",
   "metadata": {},
   "source": [
    "---\n",
    "\n",
    "## Visualizing the dataset"
   ]
  },
  {
   "attachments": {},
   "cell_type": "markdown",
   "metadata": {},
   "source": [
    "__10. Create plot with 2 vertical axes and one horizontal axes. The plot should display a barchart containing the `count` of the `10 most popular` states and cities, each in its own subplot. The bars should be sorted in descending order.__\n",
    "\n",
    "Use `df` in all tasks in this section\n",
    "\n",
    "Hint: It is recommended to use the `Barplot` function built into Seaborn for barcharts.\n",
    "\n",
    "The output should look something like this:\n",
    "\n",
    "<img src=\"assets/ex10.png\"\n",
    "     alt=\"Barchart example\"/>\n",
    "\n",
    "PS: Disregard the color scheme of the example image."
   ]
  },
  {
   "cell_type": "code",
   "execution_count": 28,
   "metadata": {},
   "outputs": [
    {
     "data": {
      "image/png": "[encoded data removed]",
      "text/plain": [
       "<Figure size 720x648 with 2 Axes>"
      ]
     },
     "metadata": {
      "needs_background": "light"
     },
     "output_type": "display_data"
    }
   ],
   "source": [
    "# Insert your code below\n",
    "# ======================\n",
    "most_popular_states = df['state'].value_counts()[:10] # get the 10 most popular states\n",
    "most_popular_cities = df['city'].value_counts()[:10] # get the 10 most popular cities\n",
    "\n",
    "barplot, axes = plt.subplots(2, 1, figsize=(10, 9)) # Create a 2x1 subplot\n",
    "\n",
    "sns.barplot(x=most_popular_states.index, y=most_popular_states.values, ax=axes[0]) # Create a barplot where the x-labels are the state names, while the bar corresponds to the number of occurences.\n",
    "sns.barplot(x=most_popular_cities.index, y=most_popular_cities.values, ax=axes[1])  # Create a barplot where the x-labels are the city names, while the bar corresponds to the number of occurences.\n",
    "axes[1].set_xticklabels(labels=most_popular_cities.index,rotation=45) # rotate the x-labels\n",
    "plt.show()\n"
   ]
  },
  {
   "attachments": {},
   "cell_type": "markdown",
   "metadata": {},
   "source": [
    "__11. Create a scatterplot with the longitude and latitude of the listings in `df`. Longitude should be on the x-axis and latitude on the y-axis.__ \n",
    "\n",
    "The output should look something like this:\n",
    "\n",
    "<img src=\"assets/ex11.png\"\n",
    "     alt=\"Scatterplot example\"/>\n",
    "\n",
    "PS: Disregard the color scheme of the example image."
   ]
  },
  {
   "cell_type": "code",
   "execution_count": 29,
   "metadata": {},
   "outputs": [
    {
     "data": {
      "image/png": "[encoded data removed]",
      "text/plain": [
       "<Figure size 720x648 with 1 Axes>"
      ]
     },
     "metadata": {
      "needs_background": "light"
     },
     "output_type": "display_data"
    }
   ],
   "source": [
    "# Insert your code below\n",
    "# ======================\n",
    "scatter, axes_scatter = plt.subplots(figsize=(10,9))\n",
    "sns.scatterplot(x=df['longitude'], y=df['latitude'], ax=axes_scatter) # creates the scatterplot\n",
    "plt.show()"
   ]
  },
  {
   "attachments": {},
   "cell_type": "markdown",
   "metadata": {},
   "source": [
    "__12. Create a matrix containing the correlations between the different columns in `df`. Plot it as a heatmap using Seaborn or similar. What does the plot tell you about correlations? Which columns are the most correlated to `price`?__"
   ]
  },
  {
   "cell_type": "code",
   "execution_count": 30,
   "metadata": {},
   "outputs": [
    {
     "name": "stderr",
     "output_type": "stream",
     "text": [
      "<ipython-input-30-06f329162c5b>:4: FutureWarning: The default value of numeric_only in DataFrame.corr is deprecated. In a future version, it will default to False. Select only valid columns or specify the value of numeric_only to silence this warning.\n",
      "  correlation_matrix = df.corr() # creates the correlation matrix for the features.\n"
     ]
    },
    {
     "data": {
      "image/png": "[encoded data removed]",
      "text/plain": [
       "<Figure size 720x648 with 2 Axes>"
      ]
     },
     "metadata": {
      "needs_background": "light"
     },
     "output_type": "display_data"
    }
   ],
   "source": [
    "# Insert your code below\n",
    "# ======================\n",
    "\n",
    "correlation_matrix = df.corr() # creates the correlation matrix for the features.\n",
    "\n",
    "heatmap, ax_heatmap = plt.subplots(figsize=(10,9))\n",
    "sns.heatmap(correlation_matrix, annot=True) # creates the heatmap\n",
    "plt.show()"
   ]
  },
  {
   "attachments": {},
   "cell_type": "markdown",
   "metadata": {},
   "source": [
    "The correlation heatmap shows us in which degree the different features are correlated with one another. *calculated_host_listings_count* is the most correlated column to the *price* column."
   ]
  }
 ],
 "metadata": {
  "kernelspec": {
   "display_name": "Python 3",
   "language": "python",
   "name": "python3"
  },
  "language_info": {
   "codemirror_mode": {
    "name": "ipython",
    "version": 3
   },
   "file_extension": ".py",
   "mimetype": "text/x-python",
   "name": "python",
   "nbconvert_exporter": "python",
   "pygments_lexer": "ipython3",
   "version": "3.9.1"
  },
  "orig_nbformat": 4,
  "vscode": {
   "interpreter": {
    "hash": "9deea6f3c6e6a1cafa822ae3777345371dda6e2b4ce138fe31dab7bab62d3b32"
   }
  }
 },
 "nbformat": 4,
 "nbformat_minor": 2
}
